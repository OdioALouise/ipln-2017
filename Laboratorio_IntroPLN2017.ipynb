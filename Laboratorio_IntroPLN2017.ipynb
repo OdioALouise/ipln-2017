{
 "cells": [
  {
   "cell_type": "markdown",
   "metadata": {},
   "source": [
    "# Laboratorio de Introducción al Procesamiento de Lenguaje Natural 2017"
   ]
  },
  {
   "cell_type": "markdown",
   "metadata": {},
   "source": [
    "## Importación de los tweets."
   ]
  },
  {
   "cell_type": "code",
   "execution_count": 2,
   "metadata": {
    "scrolled": true
   },
   "outputs": [
    {
     "name": "stdout",
     "output_type": "stream",
     "text": [
      "Index(['id', 'text', 'account_id', 'n', '1', '2', '3', '4', '5'], dtype='object')\n",
      "-La semana pasada mi hijo hizo un triple salto mortal desde 20 metros de altura - ¿Es trapecista? -Era :(\n",
      "\n",
      "-Yo ya voy por mi segundo millón de dólares... -¿!Ah, si!? -Es que el primero nunca lo hice... #fb\n",
      "\n",
      "-Ayer fue mi cumpleaños y no me felicitaste - ¡FéÉLíCÍDáÁDÉéS! - ¿Qué haces? -Felicitarte con retraso.\n",
      "\n",
      "No es flojera, es un estado de ahorro de energía corporal :)\n",
      "\n",
      "- ¿Cómo te fue en matemática? -Vos sabes que soy muy pacífica - ¿Y eso qué tiene que ver? -No me gustan los problemas jajaja -Castigada - :(\n",
      "\n",
      "\"El pesimista se queja del viento; el optimista espera que cambie; el realista ajusta las velas\" Feliz miércoles.\n",
      "\n",
      "-¿Y tú desde cuando llevas pendiente? \n",
      "-Desde que mi mujer se lo encontró en el coche y le dije que era mío...\n",
      "\n",
      "Un aplauso para esa persona que te borra del Facebook y revisa tu perfil desde la cuenta de sus amigos.\n",
      "\n",
      "Daniel Radcliffe: No estaré en más películas de 'Harry Potter': http://t.co/ffk2E2FBH3 http://t.co/4XrJwgvf11\n",
      "\n",
      "-Compadre, su hija antes me daba como por las rodillas, ahora me da hasta las nalgas! #fb\n",
      "\n",
      "Descubren la manera de detener la metástasis del cáncer: http://t.co/WCtljp4GOC http://t.co/9fz9tGYxCK\n",
      "\n",
      "Busco persona con casa propia y con piscina para amistad sincera\n",
      "\n",
      "Había una vez una tortuguita que fue a su primer día de clases y cuando llegó… ¡Ya estaban de vacaciones!\n",
      "\n",
      "Ser virgen no te hace Santa. Ser gordo con barba blanca, calvo y con traje rojo, sí.\n",
      "\n",
      "RT @iEjercicio: Estira muslos, flexores de la cadera, pantorrillas, pecho, estira todo tu cuerpo luego de un entrenamiento. Te recuperarás …\n",
      "\n"
     ]
    }
   ],
   "source": [
    "import pandas\n",
    "corpus = pandas.read_csv(\"corpus_humor_training.csv\",encoding='utf-8')\n",
    "\n",
    "print(corpus.columns)\n",
    "\n",
    "for text in corpus['text'][:15]:\n",
    "    print(text + '\\n')"
   ]
  },
  {
   "cell_type": "code",
   "execution_count": null,
   "metadata": {
    "collapsed": true
   },
   "outputs": [],
   "source": []
  }
 ],
 "metadata": {
  "anaconda-cloud": {},
  "celltoolbar": "Raw Cell Format",
  "kernelspec": {
   "display_name": "Python 3",
   "language": "python",
   "name": "python3"
  },
  "language_info": {
   "codemirror_mode": {
    "name": "ipython",
    "version": 3
   },
   "file_extension": ".py",
   "mimetype": "text/x-python",
   "name": "python",
   "nbconvert_exporter": "python",
   "pygments_lexer": "ipython3",
   "version": "3.6.1"
  },
  "widgets": {
   "state": {},
   "version": "1.1.2"
  }
 },
 "nbformat": 4,
 "nbformat_minor": 1
}
