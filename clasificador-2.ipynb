{
 "cells": [
  {
   "cell_type": "code",
   "execution_count": 1,
   "metadata": {
    "collapsed": true
   },
   "outputs": [],
   "source": [
    "#Importación de librerias útiles\n",
    "import pandas\n",
    "corpus_filtro3 = pandas.read_csv(\"corpus_filtro3.csv\",encoding='utf-8')\n",
    "\n",
    "#Librerias cientificas scipy, numpy\n",
    "import numpy as np\n",
    "from scipy import stats\n",
    "import matplotlib.pyplot as plt\n",
    "import time\n",
    "import math\n",
    "\n",
    "#Lectura de archivos xml\n",
    "from lxml import etree\n",
    "\n",
    "#Expresiones regulares\n",
    "import re\n",
    "\n",
    "#Pyfreeling\n",
    "from pyfreeling import Analyzer\n",
    "analyzer = Analyzer(config='/usr/share/freeling/config/es.cfg', lang='es')\n",
    "\n",
    "#Para aplicar Naive Bayes\n",
    "from sklearn.naive_bayes import MultinomialNB\n",
    "from sklearn.feature_extraction.text import CountVectorizer\n",
    "from sklearn import metrics\n",
    "vectorizer = CountVectorizer(stop_words='english')"
   ]
  },
  {
   "cell_type": "markdown",
   "metadata": {},
   "source": [
    "# Calculo de la mediana"
   ]
  },
  {
   "cell_type": "code",
   "execution_count": 23,
   "metadata": {},
   "outputs": [
    {
     "name": "stdout",
     "output_type": "stream",
     "text": [
      "3438   3438\n"
     ]
    }
   ],
   "source": [
    "text_list=corpus_filtro3['text'][:]\n",
    "category_list=corpus_filtro3['category'][:]\n",
    "h1_list=corpus_filtro3['1'][:]\n",
    "h2_list=corpus_filtro3['2'][:]\n",
    "h3_list=corpus_filtro3['3'][:]\n",
    "h4_list=corpus_filtro3['4'][:]\n",
    "h5_list=corpus_filtro3['5'][:]\n",
    "medians=[]\n",
    "pos=0\n",
    "for i in range( len(corpus_filtro3)):\n",
    "    values = []\n",
    "    for j in range( h1_list[i]):\n",
    "        values.append(1)\n",
    "    for j in range( h2_list[i] ):\n",
    "        values.append(2)\n",
    "    for j in range( h3_list[i] ):\n",
    "        values.append(3)\n",
    "    for j in range( h4_list[i] ):\n",
    "        values.append(4)\n",
    "    for j in range( h5_list[i] ):\n",
    "        values.append(5)\n",
    "    if len(values) == 0:\n",
    "        values.append(0)  \n",
    "    mediana=np.median(values)\n",
    "    if( len(values) % 2 == 1 ):\n",
    "        medians.append(math.floor(mediana))\n",
    "    else:\n",
    "        for i in values:\n",
    "            if( i >= mediana):\n",
    "                medians.append(i)\n",
    "                break\n",
    "    pos+=1\n",
    "        \n",
    "print(len(medians), \" \", len(corpus_filtro3))"
   ]
  },
  {
   "cell_type": "code",
   "execution_count": 24,
   "metadata": {},
   "outputs": [
    {
     "name": "stdout",
     "output_type": "stream",
     "text": [
      "Agregando informacion de mediana\n",
      "Tweets guardados en corpus_filtro4median.csv\n"
     ]
    }
   ],
   "source": [
    "print(\"Agregando informacion de mediana\")\n",
    "d = {'text' : corpus_filtro3['text'][:],\n",
    "    'category' : corpus_filtro3['category'][:],\n",
    "    'median': medians,\n",
    "    '1':corpus_filtro3['1'][:],\n",
    "    '2':corpus_filtro3['2'][:],\n",
    "    '3':corpus_filtro3['3'][:],\n",
    "    '4':corpus_filtro3['4'][:],\n",
    "    '5':corpus_filtro3['5'][:]\n",
    "    }\n",
    "df = pandas.DataFrame(d, columns = ['text', 'category', 'median', '1', '2', '3', '4', '5'])\n",
    "df.to_csv('corpus_filtro4median.csv')\n",
    "print(\"Tweets guardados en corpus_filtro4median.csv\")"
   ]
  },
  {
   "cell_type": "markdown",
   "metadata": {},
   "source": [
    "# Clasificador 1 mediana con valor 1 o no"
   ]
  },
  {
   "cell_type": "code",
   "execution_count": 25,
   "metadata": {
    "collapsed": true
   },
   "outputs": [],
   "source": [
    "vectorizer_c1 = CountVectorizer(stop_words='english')"
   ]
  },
  {
   "cell_type": "code",
   "execution_count": 26,
   "metadata": {
    "collapsed": true
   },
   "outputs": [],
   "source": [
    "corpus_filtro4median = pandas.read_csv(\"corpus_filtro4median.csv\",encoding='utf-8')\n",
    "text_list_c1=corpus_filtro4median['text'][:]\n",
    "median_list_c1=corpus_filtro4median['median'][:]\n",
    "category_list_c1=[]\n",
    "for i in median_list_c1:\n",
    "    if(i == 1):\n",
    "        category_list_c1.append(1)\n",
    "    else:\n",
    "        category_list_c1.append(0)\n",
    "\n",
    "train_features_c1 = vectorizer.fit_transform(text_list_c1[:100])"
   ]
  },
  {
   "cell_type": "code",
   "execution_count": 27,
   "metadata": {
    "collapsed": true
   },
   "outputs": [],
   "source": [
    "#corpus_filtro5_devset = pandas.read_csv(\"corpus_filtro5_devset.csv\",encoding='utf-8')\n",
    "text_devlist_c1=corpus_filtro4median['text'][600:605]\n",
    "#category_devlist=corpus_filtro5_devset['category'][:]\n",
    "test_features_c1 = vectorizer.transform(text_devlist_c1)\n"
   ]
  },
  {
   "cell_type": "code",
   "execution_count": 28,
   "metadata": {},
   "outputs": [
    {
     "data": {
      "text/plain": [
       "MultinomialNB(alpha=1.0, class_prior=None, fit_prior=True)"
      ]
     },
     "execution_count": 28,
     "metadata": {},
     "output_type": "execute_result"
    }
   ],
   "source": [
    "nb_c1 = MultinomialNB()\n",
    "nb_c1.fit(train_features_c1 , category_list_c1[:100])"
   ]
  },
  {
   "cell_type": "code",
   "execution_count": 29,
   "metadata": {},
   "outputs": [
    {
     "data": {
      "text/plain": [
       "array([[  9.53241233e-01,   4.67587673e-02],\n",
       "       [  9.99903675e-01,   9.63250486e-05],\n",
       "       [  9.86859572e-01,   1.31404276e-02],\n",
       "       [  9.99815379e-01,   1.84620725e-04],\n",
       "       [  9.99895555e-01,   1.04445411e-04]])"
      ]
     },
     "execution_count": 29,
     "metadata": {},
     "output_type": "execute_result"
    }
   ],
   "source": [
    "from sklearn.naive_bayes import MultinomialNB\n",
    "nb_c1.predict_proba(test_features_c1)"
   ]
  },
  {
   "cell_type": "code",
   "execution_count": 30,
   "metadata": {},
   "outputs": [
    {
     "data": {
      "text/plain": [
       "array([0, 0, 0, 0, 0])"
      ]
     },
     "execution_count": 30,
     "metadata": {},
     "output_type": "execute_result"
    }
   ],
   "source": [
    "nb_c1.predict(test_features_c1)"
   ]
  },
  {
   "cell_type": "markdown",
   "metadata": {},
   "source": [
    "# Clasificador 2 mediana con valor 2 o no"
   ]
  },
  {
   "cell_type": "code",
   "execution_count": 31,
   "metadata": {
    "collapsed": true
   },
   "outputs": [],
   "source": [
    "vectorizer_c2 = CountVectorizer(stop_words='english')"
   ]
  },
  {
   "cell_type": "code",
   "execution_count": 32,
   "metadata": {
    "collapsed": true
   },
   "outputs": [],
   "source": [
    "#corpus_filtro4median = pandas.read_csv(\"corpus_filtro4median.csv\",encoding='utf-8')\n",
    "#text_list_c1=corpus_filtro4median['text'][:]\n",
    "#median_list_c1=corpus_filtro4median['median'][:]\n",
    "category_list_c2=[]\n",
    "for i in median_list_c1:\n",
    "    if(i == 2):\n",
    "        category_list_c2.append(1)\n",
    "    else:\n",
    "        category_list_c2.append(0)\n",
    "\n",
    "#train_features_c2 = vectorizer.fit_transform(text_list_c1[:100])"
   ]
  },
  {
   "cell_type": "code",
   "execution_count": 27,
   "metadata": {
    "collapsed": true
   },
   "outputs": [],
   "source": [
    "#corpus_filtro5_devset = pandas.read_csv(\"corpus_filtro5_devset.csv\",encoding='utf-8')\n",
    "#text_devlist_c1=corpus_filtro4median['text'][600:605]\n",
    "#category_devlist=corpus_filtro5_devset['category'][:]\n",
    "#test_features_c1 = vectorizer.transform(text_devlist_c1)\n"
   ]
  },
  {
   "cell_type": "code",
   "execution_count": 33,
   "metadata": {},
   "outputs": [
    {
     "data": {
      "text/plain": [
       "MultinomialNB(alpha=1.0, class_prior=None, fit_prior=True)"
      ]
     },
     "execution_count": 33,
     "metadata": {},
     "output_type": "execute_result"
    }
   ],
   "source": [
    "nb_c2 = MultinomialNB()\n",
    "nb_c2.fit(train_features_c1 , category_list_c2[:100])"
   ]
  },
  {
   "cell_type": "code",
   "execution_count": 34,
   "metadata": {},
   "outputs": [
    {
     "data": {
      "text/plain": [
       "array([[  9.35809651e-01,   6.41903489e-02],\n",
       "       [  9.99973222e-01,   2.67775706e-05],\n",
       "       [  9.99315319e-01,   6.84681267e-04],\n",
       "       [  9.99954818e-01,   4.51820711e-05],\n",
       "       [  9.99930617e-01,   6.93832562e-05]])"
      ]
     },
     "execution_count": 34,
     "metadata": {},
     "output_type": "execute_result"
    }
   ],
   "source": [
    "from sklearn.naive_bayes import MultinomialNB\n",
    "nb_c2.predict_proba(test_features_c1)"
   ]
  },
  {
   "cell_type": "code",
   "execution_count": 35,
   "metadata": {},
   "outputs": [
    {
     "data": {
      "text/plain": [
       "array([0, 0, 0, 0, 0])"
      ]
     },
     "execution_count": 35,
     "metadata": {},
     "output_type": "execute_result"
    }
   ],
   "source": [
    "nb_c2.predict(test_features_c1)"
   ]
  },
  {
   "cell_type": "markdown",
   "metadata": {},
   "source": [
    "# Clasificador 3 mediana con valor 3 o no"
   ]
  },
  {
   "cell_type": "code",
   "execution_count": 36,
   "metadata": {
    "collapsed": true
   },
   "outputs": [],
   "source": [
    "vectorizer_c3 = CountVectorizer(stop_words='english')"
   ]
  },
  {
   "cell_type": "code",
   "execution_count": 37,
   "metadata": {
    "collapsed": true
   },
   "outputs": [],
   "source": [
    "#corpus_filtro4median = pandas.read_csv(\"corpus_filtro4median.csv\",encoding='utf-8')\n",
    "#text_list_c1=corpus_filtro4median['text'][:]\n",
    "#median_list_c1=corpus_filtro4median['median'][:]\n",
    "category_list_c3=[]\n",
    "for i in median_list_c1:\n",
    "    if(i == 3):\n",
    "        category_list_c3.append(1)\n",
    "    else:\n",
    "        category_list_c3.append(0)\n",
    "\n",
    "#train_features_c2 = vectorizer.fit_transform(text_list_c1[:100])"
   ]
  },
  {
   "cell_type": "code",
   "execution_count": 27,
   "metadata": {
    "collapsed": true
   },
   "outputs": [],
   "source": [
    "#corpus_filtro5_devset = pandas.read_csv(\"corpus_filtro5_devset.csv\",encoding='utf-8')\n",
    "#text_devlist_c1=corpus_filtro4median['text'][600:605]\n",
    "#category_devlist=corpus_filtro5_devset['category'][:]\n",
    "#test_features_c1 = vectorizer.transform(text_devlist_c1)\n"
   ]
  },
  {
   "cell_type": "code",
   "execution_count": 38,
   "metadata": {},
   "outputs": [
    {
     "data": {
      "text/plain": [
       "MultinomialNB(alpha=1.0, class_prior=None, fit_prior=True)"
      ]
     },
     "execution_count": 38,
     "metadata": {},
     "output_type": "execute_result"
    }
   ],
   "source": [
    "nb_c3 = MultinomialNB()\n",
    "nb_c3.fit(train_features_c1 , category_list_c3[:100])"
   ]
  },
  {
   "cell_type": "code",
   "execution_count": 39,
   "metadata": {},
   "outputs": [
    {
     "data": {
      "text/plain": [
       "array([[ 0.82353676,  0.17646324],\n",
       "       [ 0.99702592,  0.00297408],\n",
       "       [ 0.99072811,  0.00927189],\n",
       "       [ 0.93235037,  0.06764963],\n",
       "       [ 0.9873813 ,  0.0126187 ]])"
      ]
     },
     "execution_count": 39,
     "metadata": {},
     "output_type": "execute_result"
    }
   ],
   "source": [
    "from sklearn.naive_bayes import MultinomialNB\n",
    "nb_c3.predict_proba(test_features_c1)"
   ]
  },
  {
   "cell_type": "code",
   "execution_count": 40,
   "metadata": {},
   "outputs": [
    {
     "data": {
      "text/plain": [
       "array([0, 0, 0, 0, 0])"
      ]
     },
     "execution_count": 40,
     "metadata": {},
     "output_type": "execute_result"
    }
   ],
   "source": [
    "nb_c3.predict(test_features_c1)"
   ]
  },
  {
   "cell_type": "markdown",
   "metadata": {},
   "source": [
    "# Clasificador 4 mediana con valor 4 o no"
   ]
  },
  {
   "cell_type": "code",
   "execution_count": 41,
   "metadata": {
    "collapsed": true
   },
   "outputs": [],
   "source": [
    "vectorizer_c4 = CountVectorizer(stop_words='english')"
   ]
  },
  {
   "cell_type": "code",
   "execution_count": 42,
   "metadata": {
    "collapsed": true
   },
   "outputs": [],
   "source": [
    "#corpus_filtro4median = pandas.read_csv(\"corpus_filtro4median.csv\",encoding='utf-8')\n",
    "#text_list_c1=corpus_filtro4median['text'][:]\n",
    "#median_list_c1=corpus_filtro4median['median'][:]\n",
    "category_list_c4=[]\n",
    "for i in median_list_c1:\n",
    "    if(i == 4):\n",
    "        category_list_c4.append(1)\n",
    "    else:\n",
    "        category_list_c4.append(0)\n",
    "\n",
    "#train_features_c2 = vectorizer.fit_transform(text_list_c1[:100])"
   ]
  },
  {
   "cell_type": "code",
   "execution_count": 43,
   "metadata": {
    "collapsed": true
   },
   "outputs": [],
   "source": [
    "#corpus_filtro5_devset = pandas.read_csv(\"corpus_filtro5_devset.csv\",encoding='utf-8')\n",
    "#text_devlist_c1=corpus_filtro4median['text'][600:605]\n",
    "#category_devlist=corpus_filtro5_devset['category'][:]\n",
    "#test_features_c1 = vectorizer.transform(text_devlist_c1)\n"
   ]
  },
  {
   "cell_type": "code",
   "execution_count": 44,
   "metadata": {},
   "outputs": [
    {
     "data": {
      "text/plain": [
       "MultinomialNB(alpha=1.0, class_prior=None, fit_prior=True)"
      ]
     },
     "execution_count": 44,
     "metadata": {},
     "output_type": "execute_result"
    }
   ],
   "source": [
    "nb_c4 = MultinomialNB()\n",
    "nb_c4.fit(train_features_c1 , category_list_c4[:100])"
   ]
  },
  {
   "cell_type": "code",
   "execution_count": 45,
   "metadata": {},
   "outputs": [
    {
     "data": {
      "text/plain": [
       "array([[  8.50149682e-01,   1.49850318e-01],\n",
       "       [  9.99410933e-01,   5.89067388e-04],\n",
       "       [  9.67240543e-01,   3.27594568e-02],\n",
       "       [  9.53474485e-01,   4.65255154e-02],\n",
       "       [  9.98839805e-01,   1.16019475e-03]])"
      ]
     },
     "execution_count": 45,
     "metadata": {},
     "output_type": "execute_result"
    }
   ],
   "source": [
    "from sklearn.naive_bayes import MultinomialNB\n",
    "nb_c4.predict_proba(test_features_c1)"
   ]
  },
  {
   "cell_type": "code",
   "execution_count": 46,
   "metadata": {
    "scrolled": true
   },
   "outputs": [
    {
     "data": {
      "text/plain": [
       "array([0, 0, 0, 0, 0])"
      ]
     },
     "execution_count": 46,
     "metadata": {},
     "output_type": "execute_result"
    }
   ],
   "source": [
    "nb_c4.predict(test_features_c1)"
   ]
  },
  {
   "cell_type": "markdown",
   "metadata": {},
   "source": [
    "# Clasificador 5 mediana con valor 5 o no"
   ]
  },
  {
   "cell_type": "code",
   "execution_count": 47,
   "metadata": {
    "collapsed": true
   },
   "outputs": [],
   "source": [
    "vectorizer_c5 = CountVectorizer(stop_words='english')"
   ]
  },
  {
   "cell_type": "code",
   "execution_count": 48,
   "metadata": {
    "collapsed": true
   },
   "outputs": [],
   "source": [
    "#corpus_filtro4median = pandas.read_csv(\"corpus_filtro4median.csv\",encoding='utf-8')\n",
    "#text_list_c1=corpus_filtro4median['text'][:]\n",
    "#median_list_c1=corpus_filtro4median['median'][:]\n",
    "category_list_c5=[]\n",
    "for i in median_list_c1:\n",
    "    if(i == 5):\n",
    "        category_list_c5.append(1)\n",
    "    else:\n",
    "        category_list_c5.append(0)\n",
    "\n",
    "#train_features_c2 = vectorizer.fit_transform(text_list_c1[:100])"
   ]
  },
  {
   "cell_type": "code",
   "execution_count": 49,
   "metadata": {
    "collapsed": true
   },
   "outputs": [],
   "source": [
    "#corpus_filtro5_devset = pandas.read_csv(\"corpus_filtro5_devset.csv\",encoding='utf-8')\n",
    "#text_devlist_c1=corpus_filtro4median['text'][600:605]\n",
    "#category_devlist=corpus_filtro5_devset['category'][:]\n",
    "#test_features_c1 = vectorizer.transform(text_devlist_c1)\n"
   ]
  },
  {
   "cell_type": "code",
   "execution_count": 50,
   "metadata": {},
   "outputs": [
    {
     "data": {
      "text/plain": [
       "MultinomialNB(alpha=1.0, class_prior=None, fit_prior=True)"
      ]
     },
     "execution_count": 50,
     "metadata": {},
     "output_type": "execute_result"
    }
   ],
   "source": [
    "nb_c5 = MultinomialNB()\n",
    "nb_c5.fit(train_features_c1 , category_list_c5[:100])"
   ]
  },
  {
   "cell_type": "code",
   "execution_count": 51,
   "metadata": {},
   "outputs": [
    {
     "data": {
      "text/plain": [
       "array([[  9.63672906e-01,   3.63270941e-02],\n",
       "       [  9.98323905e-01,   1.67609468e-03],\n",
       "       [  9.98857140e-01,   1.14285986e-03],\n",
       "       [  9.99772425e-01,   2.27574888e-04],\n",
       "       [  9.99982259e-01,   1.77407229e-05]])"
      ]
     },
     "execution_count": 51,
     "metadata": {},
     "output_type": "execute_result"
    }
   ],
   "source": [
    "from sklearn.naive_bayes import MultinomialNB\n",
    "nb_c5.predict_proba(test_features_c1)"
   ]
  },
  {
   "cell_type": "code",
   "execution_count": 52,
   "metadata": {
    "scrolled": true
   },
   "outputs": [
    {
     "data": {
      "text/plain": [
       "array([0, 0, 0, 0, 0])"
      ]
     },
     "execution_count": 52,
     "metadata": {},
     "output_type": "execute_result"
    }
   ],
   "source": [
    "nb_c5.predict(test_features_c1)"
   ]
  },
  {
   "cell_type": "markdown",
   "metadata": {},
   "source": [
    "# Clasificador 6 mediana con valor 0 o no"
   ]
  },
  {
   "cell_type": "code",
   "execution_count": 53,
   "metadata": {
    "collapsed": true
   },
   "outputs": [],
   "source": [
    "vectorizer_c0 = CountVectorizer(stop_words='english')"
   ]
  },
  {
   "cell_type": "code",
   "execution_count": 54,
   "metadata": {
    "collapsed": true
   },
   "outputs": [],
   "source": [
    "#corpus_filtro4median = pandas.read_csv(\"corpus_filtro4median.csv\",encoding='utf-8')\n",
    "#text_list_c1=corpus_filtro4median['text'][:]\n",
    "#median_list_c1=corpus_filtro4median['median'][:]\n",
    "category_list_c0=[]\n",
    "for i in median_list_c1:\n",
    "    if(i == 0):\n",
    "        category_list_c0.append(1)\n",
    "    else:\n",
    "        category_list_c0.append(0)\n",
    "\n",
    "#train_features_c2 = vectorizer.fit_transform(text_list_c1[:100])"
   ]
  },
  {
   "cell_type": "code",
   "execution_count": 55,
   "metadata": {
    "collapsed": true
   },
   "outputs": [],
   "source": [
    "#corpus_filtro5_devset = pandas.read_csv(\"corpus_filtro5_devset.csv\",encoding='utf-8')\n",
    "#text_devlist_c1=corpus_filtro4median['text'][600:605]\n",
    "#category_devlist=corpus_filtro5_devset['category'][:]\n",
    "#test_features_c1 = vectorizer.transform(text_devlist_c1)\n"
   ]
  },
  {
   "cell_type": "code",
   "execution_count": 56,
   "metadata": {},
   "outputs": [
    {
     "data": {
      "text/plain": [
       "MultinomialNB(alpha=1.0, class_prior=None, fit_prior=True)"
      ]
     },
     "execution_count": 56,
     "metadata": {},
     "output_type": "execute_result"
    }
   ],
   "source": [
    "nb_c0 = MultinomialNB()\n",
    "nb_c0.fit(train_features_c1 , category_list_c0[:100])"
   ]
  },
  {
   "cell_type": "code",
   "execution_count": 57,
   "metadata": {},
   "outputs": [
    {
     "data": {
      "text/plain": [
       "array([[ 0.94489069,  0.05510931],\n",
       "       [ 0.89388085,  0.10611915],\n",
       "       [ 0.99840411,  0.00159589],\n",
       "       [ 0.99685932,  0.00314068],\n",
       "       [ 0.46576332,  0.53423668]])"
      ]
     },
     "execution_count": 57,
     "metadata": {},
     "output_type": "execute_result"
    }
   ],
   "source": [
    "from sklearn.naive_bayes import MultinomialNB\n",
    "nb_c0.predict_proba(test_features_c1)"
   ]
  },
  {
   "cell_type": "code",
   "execution_count": 58,
   "metadata": {
    "scrolled": true
   },
   "outputs": [
    {
     "data": {
      "text/plain": [
       "array([0, 0, 0, 0, 1])"
      ]
     },
     "execution_count": 58,
     "metadata": {},
     "output_type": "execute_result"
    }
   ],
   "source": [
    "nb_c0.predict(test_features_c1)"
   ]
  },
  {
   "cell_type": "code",
   "execution_count": 59,
   "metadata": {
    "collapsed": true
   },
   "outputs": [],
   "source": [
    "c1_pred=nb_c1.predict_proba(test_features_c1)\n",
    "c2_pred=nb_c2.predict_proba(test_features_c1)\n",
    "c3_pred=nb_c3.predict_proba(test_features_c1)\n",
    "c4_pred=nb_c4.predict_proba(test_features_c1)\n",
    "c5_pred=nb_c5.predict_proba(test_features_c1)\n",
    "c0_pred=nb_c0.predict_proba(test_features_c1)"
   ]
  },
  {
   "cell_type": "code",
   "execution_count": 63,
   "metadata": {},
   "outputs": [
    {
     "name": "stdout",
     "output_type": "stream",
     "text": [
      "Mediana PREDICHA 3\n",
      "Mediana PREDICHA 0\n",
      "Mediana PREDICHA 4\n",
      "Mediana PREDICHA 3\n",
      "Mediana PREDICHA 0\n"
     ]
    }
   ],
   "source": [
    "for i in range(5):\n",
    "    maximum=np.max([c1_pred[i][1],c2_pred[i][1],c3_pred[i][1],c4_pred[i][1],c5_pred[i][1],c0_pred[i][1]])\n",
    "    if(maximum == c1_pred[i][1]):\n",
    "        print(\"Mediana PREDICHA 1\")\n",
    "    elif(maximum == c2_pred[i][1]):\n",
    "        print(\"Mediana PREDICHA 2\")\n",
    "    elif(maximum == c3_pred[i][1]):\n",
    "        print(\"Mediana PREDICHA 3\")\n",
    "    elif(maximum == c4_pred[i][1]):\n",
    "        print(\"Mediana PREDICHA 4\")\n",
    "    elif(maximum == c5_pred[i][1]):\n",
    "        print(\"Mediana PREDICHA 5\")\n",
    "    elif(maximum == c0_pred[i][1]):\n",
    "        print(\"Mediana PREDICHA 0\")\n"
   ]
  }
 ],
 "metadata": {
  "kernelspec": {
   "display_name": "Python 3",
   "language": "python",
   "name": "python3"
  },
  "language_info": {
   "codemirror_mode": {
    "name": "ipython",
    "version": 3
   },
   "file_extension": ".py",
   "mimetype": "text/x-python",
   "name": "python",
   "nbconvert_exporter": "python",
   "pygments_lexer": "ipython3",
   "version": "3.6.1"
  }
 },
 "nbformat": 4,
 "nbformat_minor": 2
}
